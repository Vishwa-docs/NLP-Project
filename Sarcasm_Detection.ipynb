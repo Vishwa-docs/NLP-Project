{
  "cells": [
    {
      "cell_type": "markdown",
      "metadata": {
        "id": "UE-_KOhobTF6"
      },
      "source": [
        "# Dataset Link\n",
        "[Kaggle](https://www.kaggle.com/datasets/rmisra/news-headlines-dataset-for-sarcasm-detection?select=Sarcasm_Headlines_Dataset.json)\n",
        "\n",
        "## Overview of Dataset\n",
        "Dataset is collected from **TheOnion**, which aims at producing sarcastic versions of current events. Real news headlines was collected from **HuffPost**"
      ]
    },
    {
      "cell_type": "code",
      "execution_count": null,
      "metadata": {
        "colab": {
          "base_uri": "https://localhost:8080/"
        },
        "id": "g-KJTwo7ZEXX",
        "outputId": "c4f0b000-4c7e-4205-d096-623e2f1b6008"
      },
      "outputs": [
        {
          "output_type": "stream",
          "name": "stdout",
          "text": [
            "Drive already mounted at /content/drive/; to attempt to forcibly remount, call drive.mount(\"/content/drive/\", force_remount=True).\n"
          ]
        }
      ],
      "source": [
        "from google.colab import drive\n",
        "drive.mount('/content/drive/')"
      ]
    },
    {
      "cell_type": "code",
      "execution_count": null,
      "metadata": {
        "id": "OXJUEiLqcLPx"
      },
      "outputs": [],
      "source": [
        "from pathlib import Path\n",
        "import json\n",
        "import re\n",
        "import string\n",
        "from string import punctuation\n",
        "import unicodedata\n",
        "import urllib\n",
        "\n",
        "import numpy as np\n",
        "import pandas as pd\n",
        "import matplotlib.pyplot as plt\n",
        "import seaborn as sns\n",
        "\n",
        "import nltk\n",
        "from nltk.corpus import stopwords\n",
        "\n",
        "from bs4 import BeautifulSoup\n",
        "\n",
        "from sklearn.model_selection import train_test_split\n",
        "from sklearn.metrics import classification_report, confusion_matrix, accuracy_score\n",
        "\n",
        "from keras.preprocessing import text, sequence\n",
        "from keras.models import Sequential, load_model\n",
        "from keras.layers import Dense, Embedding, LSTM, Dropout, Bidirectional, GRU\n",
        "from keras.optimizers import Adam\n",
        "from keras.initializers import Constant\n",
        "from keras.callbacks import ModelCheckpoint\n",
        "\n",
        "import gensim\n",
        "\n"
      ]
    },
    {
      "cell_type": "code",
      "execution_count": null,
      "metadata": {
        "colab": {
          "base_uri": "https://localhost:8080/"
        },
        "id": "mLthIYMreFAb",
        "outputId": "27bf7243-7638-45a6-a388-0abe728c47b2"
      },
      "outputs": [
        {
          "output_type": "stream",
          "name": "stderr",
          "text": [
            "[nltk_data] Downloading package stopwords to /root/nltk_data...\n",
            "[nltk_data]   Package stopwords is already up-to-date!\n"
          ]
        },
        {
          "output_type": "execute_result",
          "data": {
            "text/plain": [
              "True"
            ]
          },
          "metadata": {},
          "execution_count": 46
        }
      ],
      "source": [
        "nltk.download('stopwords')"
      ]
    },
    {
      "cell_type": "code",
      "execution_count": null,
      "metadata": {
        "colab": {
          "base_uri": "https://localhost:8080/"
        },
        "id": "TpXegTC8ne0X",
        "outputId": "35917179-f92e-4596-9f76-e581cd6a8c01"
      },
      "outputs": [
        {
          "output_type": "stream",
          "name": "stderr",
          "text": [
            "[nltk_data] Downloading package punkt to /root/nltk_data...\n",
            "[nltk_data]   Package punkt is already up-to-date!\n"
          ]
        },
        {
          "output_type": "execute_result",
          "data": {
            "text/plain": [
              "True"
            ]
          },
          "metadata": {},
          "execution_count": 47
        }
      ],
      "source": [
        "nltk.download('punkt')"
      ]
    },
    {
      "cell_type": "code",
      "execution_count": null,
      "metadata": {
        "id": "VyH4GVkocMb7"
      },
      "outputs": [],
      "source": [
        "path_v2 = Path(\"/content/drive/MyDrive/Shared With Others/Sarcasm_Headlines_Dataset_v2.json\")\n",
        "# with open(path_v2) as f:\n",
        "#   df = json.load(f)"
      ]
    },
    {
      "cell_type": "code",
      "execution_count": null,
      "metadata": {
        "colab": {
          "base_uri": "https://localhost:8080/",
          "height": 374
        },
        "id": "LO-cY9Vncwrd",
        "outputId": "d1752af9-54e4-40b2-d3c4-66d37918fa0a"
      },
      "outputs": [
        {
          "output_type": "execute_result",
          "data": {
            "text/plain": [
              "       is_sarcastic                                           headline  \\\n",
              "20067             0  here's who the obamas invited to the state of ...   \n",
              "25120             0  the toy aisle is almost too much for this boy ...   \n",
              "12815             1  report: it a miracle nothing has punctured you...   \n",
              "3959              1  new report finds adult film star may have paid...   \n",
              "26584             1  scientists claim solar energy will be capable ...   \n",
              "\n",
              "                                            article_link  \n",
              "20067  https://www.huffingtonpost.com/entry/state-of-...  \n",
              "25120  https://www.huffingtonpost.com/entry/the-toy-a...  \n",
              "12815  https://www.theonion.com/report-it-a-miracle-n...  \n",
              "3959   https://politics.theonion.com/new-report-finds...  \n",
              "26584  https://www.theonion.com/scientists-claim-sola...  "
            ],
            "text/html": [
              "\n",
              "  <div id=\"df-49ba222b-e3f4-41f5-b467-01896dbce873\" class=\"colab-df-container\">\n",
              "    <div>\n",
              "<style scoped>\n",
              "    .dataframe tbody tr th:only-of-type {\n",
              "        vertical-align: middle;\n",
              "    }\n",
              "\n",
              "    .dataframe tbody tr th {\n",
              "        vertical-align: top;\n",
              "    }\n",
              "\n",
              "    .dataframe thead th {\n",
              "        text-align: right;\n",
              "    }\n",
              "</style>\n",
              "<table border=\"1\" class=\"dataframe\">\n",
              "  <thead>\n",
              "    <tr style=\"text-align: right;\">\n",
              "      <th></th>\n",
              "      <th>is_sarcastic</th>\n",
              "      <th>headline</th>\n",
              "      <th>article_link</th>\n",
              "    </tr>\n",
              "  </thead>\n",
              "  <tbody>\n",
              "    <tr>\n",
              "      <th>20067</th>\n",
              "      <td>0</td>\n",
              "      <td>here's who the obamas invited to the state of ...</td>\n",
              "      <td>https://www.huffingtonpost.com/entry/state-of-...</td>\n",
              "    </tr>\n",
              "    <tr>\n",
              "      <th>25120</th>\n",
              "      <td>0</td>\n",
              "      <td>the toy aisle is almost too much for this boy ...</td>\n",
              "      <td>https://www.huffingtonpost.com/entry/the-toy-a...</td>\n",
              "    </tr>\n",
              "    <tr>\n",
              "      <th>12815</th>\n",
              "      <td>1</td>\n",
              "      <td>report: it a miracle nothing has punctured you...</td>\n",
              "      <td>https://www.theonion.com/report-it-a-miracle-n...</td>\n",
              "    </tr>\n",
              "    <tr>\n",
              "      <th>3959</th>\n",
              "      <td>1</td>\n",
              "      <td>new report finds adult film star may have paid...</td>\n",
              "      <td>https://politics.theonion.com/new-report-finds...</td>\n",
              "    </tr>\n",
              "    <tr>\n",
              "      <th>26584</th>\n",
              "      <td>1</td>\n",
              "      <td>scientists claim solar energy will be capable ...</td>\n",
              "      <td>https://www.theonion.com/scientists-claim-sola...</td>\n",
              "    </tr>\n",
              "  </tbody>\n",
              "</table>\n",
              "</div>\n",
              "    <div class=\"colab-df-buttons\">\n",
              "\n",
              "  <div class=\"colab-df-container\">\n",
              "    <button class=\"colab-df-convert\" onclick=\"convertToInteractive('df-49ba222b-e3f4-41f5-b467-01896dbce873')\"\n",
              "            title=\"Convert this dataframe to an interactive table.\"\n",
              "            style=\"display:none;\">\n",
              "\n",
              "  <svg xmlns=\"http://www.w3.org/2000/svg\" height=\"24px\" viewBox=\"0 -960 960 960\">\n",
              "    <path d=\"M120-120v-720h720v720H120Zm60-500h600v-160H180v160Zm220 220h160v-160H400v160Zm0 220h160v-160H400v160ZM180-400h160v-160H180v160Zm440 0h160v-160H620v160ZM180-180h160v-160H180v160Zm440 0h160v-160H620v160Z\"/>\n",
              "  </svg>\n",
              "    </button>\n",
              "\n",
              "  <style>\n",
              "    .colab-df-container {\n",
              "      display:flex;\n",
              "      gap: 12px;\n",
              "    }\n",
              "\n",
              "    .colab-df-convert {\n",
              "      background-color: #E8F0FE;\n",
              "      border: none;\n",
              "      border-radius: 50%;\n",
              "      cursor: pointer;\n",
              "      display: none;\n",
              "      fill: #1967D2;\n",
              "      height: 32px;\n",
              "      padding: 0 0 0 0;\n",
              "      width: 32px;\n",
              "    }\n",
              "\n",
              "    .colab-df-convert:hover {\n",
              "      background-color: #E2EBFA;\n",
              "      box-shadow: 0px 1px 2px rgba(60, 64, 67, 0.3), 0px 1px 3px 1px rgba(60, 64, 67, 0.15);\n",
              "      fill: #174EA6;\n",
              "    }\n",
              "\n",
              "    .colab-df-buttons div {\n",
              "      margin-bottom: 4px;\n",
              "    }\n",
              "\n",
              "    [theme=dark] .colab-df-convert {\n",
              "      background-color: #3B4455;\n",
              "      fill: #D2E3FC;\n",
              "    }\n",
              "\n",
              "    [theme=dark] .colab-df-convert:hover {\n",
              "      background-color: #434B5C;\n",
              "      box-shadow: 0px 1px 3px 1px rgba(0, 0, 0, 0.15);\n",
              "      filter: drop-shadow(0px 1px 2px rgba(0, 0, 0, 0.3));\n",
              "      fill: #FFFFFF;\n",
              "    }\n",
              "  </style>\n",
              "\n",
              "    <script>\n",
              "      const buttonEl =\n",
              "        document.querySelector('#df-49ba222b-e3f4-41f5-b467-01896dbce873 button.colab-df-convert');\n",
              "      buttonEl.style.display =\n",
              "        google.colab.kernel.accessAllowed ? 'block' : 'none';\n",
              "\n",
              "      async function convertToInteractive(key) {\n",
              "        const element = document.querySelector('#df-49ba222b-e3f4-41f5-b467-01896dbce873');\n",
              "        const dataTable =\n",
              "          await google.colab.kernel.invokeFunction('convertToInteractive',\n",
              "                                                    [key], {});\n",
              "        if (!dataTable) return;\n",
              "\n",
              "        const docLinkHtml = 'Like what you see? Visit the ' +\n",
              "          '<a target=\"_blank\" href=https://colab.research.google.com/notebooks/data_table.ipynb>data table notebook</a>'\n",
              "          + ' to learn more about interactive tables.';\n",
              "        element.innerHTML = '';\n",
              "        dataTable['output_type'] = 'display_data';\n",
              "        await google.colab.output.renderOutput(dataTable, element);\n",
              "        const docLink = document.createElement('div');\n",
              "        docLink.innerHTML = docLinkHtml;\n",
              "        element.appendChild(docLink);\n",
              "      }\n",
              "    </script>\n",
              "  </div>\n",
              "\n",
              "\n",
              "<div id=\"df-b5a85e8a-9b88-4dfa-9657-52b9c5753f15\">\n",
              "  <button class=\"colab-df-quickchart\" onclick=\"quickchart('df-b5a85e8a-9b88-4dfa-9657-52b9c5753f15')\"\n",
              "            title=\"Suggest charts\"\n",
              "            style=\"display:none;\">\n",
              "\n",
              "<svg xmlns=\"http://www.w3.org/2000/svg\" height=\"24px\"viewBox=\"0 0 24 24\"\n",
              "     width=\"24px\">\n",
              "    <g>\n",
              "        <path d=\"M19 3H5c-1.1 0-2 .9-2 2v14c0 1.1.9 2 2 2h14c1.1 0 2-.9 2-2V5c0-1.1-.9-2-2-2zM9 17H7v-7h2v7zm4 0h-2V7h2v10zm4 0h-2v-4h2v4z\"/>\n",
              "    </g>\n",
              "</svg>\n",
              "  </button>\n",
              "\n",
              "<style>\n",
              "  .colab-df-quickchart {\n",
              "      --bg-color: #E8F0FE;\n",
              "      --fill-color: #1967D2;\n",
              "      --hover-bg-color: #E2EBFA;\n",
              "      --hover-fill-color: #174EA6;\n",
              "      --disabled-fill-color: #AAA;\n",
              "      --disabled-bg-color: #DDD;\n",
              "  }\n",
              "\n",
              "  [theme=dark] .colab-df-quickchart {\n",
              "      --bg-color: #3B4455;\n",
              "      --fill-color: #D2E3FC;\n",
              "      --hover-bg-color: #434B5C;\n",
              "      --hover-fill-color: #FFFFFF;\n",
              "      --disabled-bg-color: #3B4455;\n",
              "      --disabled-fill-color: #666;\n",
              "  }\n",
              "\n",
              "  .colab-df-quickchart {\n",
              "    background-color: var(--bg-color);\n",
              "    border: none;\n",
              "    border-radius: 50%;\n",
              "    cursor: pointer;\n",
              "    display: none;\n",
              "    fill: var(--fill-color);\n",
              "    height: 32px;\n",
              "    padding: 0;\n",
              "    width: 32px;\n",
              "  }\n",
              "\n",
              "  .colab-df-quickchart:hover {\n",
              "    background-color: var(--hover-bg-color);\n",
              "    box-shadow: 0 1px 2px rgba(60, 64, 67, 0.3), 0 1px 3px 1px rgba(60, 64, 67, 0.15);\n",
              "    fill: var(--button-hover-fill-color);\n",
              "  }\n",
              "\n",
              "  .colab-df-quickchart-complete:disabled,\n",
              "  .colab-df-quickchart-complete:disabled:hover {\n",
              "    background-color: var(--disabled-bg-color);\n",
              "    fill: var(--disabled-fill-color);\n",
              "    box-shadow: none;\n",
              "  }\n",
              "\n",
              "  .colab-df-spinner {\n",
              "    border: 2px solid var(--fill-color);\n",
              "    border-color: transparent;\n",
              "    border-bottom-color: var(--fill-color);\n",
              "    animation:\n",
              "      spin 1s steps(1) infinite;\n",
              "  }\n",
              "\n",
              "  @keyframes spin {\n",
              "    0% {\n",
              "      border-color: transparent;\n",
              "      border-bottom-color: var(--fill-color);\n",
              "      border-left-color: var(--fill-color);\n",
              "    }\n",
              "    20% {\n",
              "      border-color: transparent;\n",
              "      border-left-color: var(--fill-color);\n",
              "      border-top-color: var(--fill-color);\n",
              "    }\n",
              "    30% {\n",
              "      border-color: transparent;\n",
              "      border-left-color: var(--fill-color);\n",
              "      border-top-color: var(--fill-color);\n",
              "      border-right-color: var(--fill-color);\n",
              "    }\n",
              "    40% {\n",
              "      border-color: transparent;\n",
              "      border-right-color: var(--fill-color);\n",
              "      border-top-color: var(--fill-color);\n",
              "    }\n",
              "    60% {\n",
              "      border-color: transparent;\n",
              "      border-right-color: var(--fill-color);\n",
              "    }\n",
              "    80% {\n",
              "      border-color: transparent;\n",
              "      border-right-color: var(--fill-color);\n",
              "      border-bottom-color: var(--fill-color);\n",
              "    }\n",
              "    90% {\n",
              "      border-color: transparent;\n",
              "      border-bottom-color: var(--fill-color);\n",
              "    }\n",
              "  }\n",
              "</style>\n",
              "\n",
              "  <script>\n",
              "    async function quickchart(key) {\n",
              "      const quickchartButtonEl =\n",
              "        document.querySelector('#' + key + ' button');\n",
              "      quickchartButtonEl.disabled = true;  // To prevent multiple clicks.\n",
              "      quickchartButtonEl.classList.add('colab-df-spinner');\n",
              "      try {\n",
              "        const charts = await google.colab.kernel.invokeFunction(\n",
              "            'suggestCharts', [key], {});\n",
              "      } catch (error) {\n",
              "        console.error('Error during call to suggestCharts:', error);\n",
              "      }\n",
              "      quickchartButtonEl.classList.remove('colab-df-spinner');\n",
              "      quickchartButtonEl.classList.add('colab-df-quickchart-complete');\n",
              "    }\n",
              "    (() => {\n",
              "      let quickchartButtonEl =\n",
              "        document.querySelector('#df-b5a85e8a-9b88-4dfa-9657-52b9c5753f15 button');\n",
              "      quickchartButtonEl.style.display =\n",
              "        google.colab.kernel.accessAllowed ? 'block' : 'none';\n",
              "    })();\n",
              "  </script>\n",
              "</div>\n",
              "\n",
              "    </div>\n",
              "  </div>\n"
            ],
            "application/vnd.google.colaboratory.intrinsic+json": {
              "type": "dataframe",
              "summary": "{\n  \"name\": \"df\",\n  \"rows\": 5,\n  \"fields\": [\n    {\n      \"column\": \"is_sarcastic\",\n      \"properties\": {\n        \"dtype\": \"number\",\n        \"std\": 0,\n        \"min\": 0,\n        \"max\": 1,\n        \"num_unique_values\": 2,\n        \"samples\": [\n          1,\n          0\n        ],\n        \"semantic_type\": \"\",\n        \"description\": \"\"\n      }\n    },\n    {\n      \"column\": \"headline\",\n      \"properties\": {\n        \"dtype\": \"string\",\n        \"num_unique_values\": 5,\n        \"samples\": [\n          \"the toy aisle is almost too much for this boy to handle\",\n          \"scientists claim solar energy will be capable of powering 95% of scorchlands outposts by 2085\"\n        ],\n        \"semantic_type\": \"\",\n        \"description\": \"\"\n      }\n    },\n    {\n      \"column\": \"article_link\",\n      \"properties\": {\n        \"dtype\": \"string\",\n        \"num_unique_values\": 5,\n        \"samples\": [\n          \"https://www.huffingtonpost.com/entry/the-toy-aisle-is-almost-too-much-for-this-boy-to-handle_us_5767fb83e4b0fbbc8beaea8e\",\n          \"https://www.theonion.com/scientists-claim-solar-energy-will-be-capable-of-poweri-1819579907\"\n        ],\n        \"semantic_type\": \"\",\n        \"description\": \"\"\n      }\n    }\n  ]\n}"
            }
          },
          "metadata": {},
          "execution_count": 49
        }
      ],
      "source": [
        "df = pd.read_json(path_v2, lines = True)\n",
        "df.sample(5)"
      ]
    },
    {
      "cell_type": "code",
      "execution_count": null,
      "metadata": {
        "id": "1iJsOZEJc_g3"
      },
      "outputs": [],
      "source": [
        "del df['article_link']"
      ]
    },
    {
      "cell_type": "markdown",
      "metadata": {
        "id": "QVhkMlo6d03R"
      },
      "source": [
        "# Data Prepocessing and Cleaning"
      ]
    },
    {
      "cell_type": "code",
      "execution_count": null,
      "metadata": {
        "id": "P9izHfo8d3Po"
      },
      "outputs": [],
      "source": [
        "# To remove stopwords and punctuations\n",
        "stop = set(stopwords.words('english'))\n",
        "punctuation = list(string.punctuation)\n",
        "stop.update(punctuation)"
      ]
    },
    {
      "cell_type": "code",
      "execution_count": null,
      "metadata": {
        "colab": {
          "base_uri": "https://localhost:8080/"
        },
        "id": "9O7GaNnTeKCf",
        "outputId": "51a9d567-cf13-47a7-e252-7e5925394405"
      },
      "outputs": [
        {
          "output_type": "stream",
          "name": "stderr",
          "text": [
            "<ipython-input-52-4dbbaa724f7b>:10: MarkupResemblesLocatorWarning: The input looks more like a filename than markup. You may want to open this file and pass the filehandle into Beautiful Soup.\n",
            "  soup = BeautifulSoup(text, \"html.parser\")\n"
          ]
        }
      ],
      "source": [
        "def remove_stopwords(text):\n",
        "    final_text = []\n",
        "    for i in text.split():\n",
        "        if i.strip().lower() not in stop:\n",
        "            final_text.append(i.strip())\n",
        "    return \" \".join(final_text)\n",
        "\n",
        "def denoise_text(text):\n",
        "  # Remove HTML Elements\n",
        "  soup = BeautifulSoup(text, \"html.parser\")\n",
        "  text = soup.get_text()\n",
        "\n",
        "  # Remove Brackets\n",
        "  text = re.sub('\\[[^]]*\\]', '', text)\n",
        "  text = re.sub(r'http\\S+', '', text)\n",
        "\n",
        "  text = remove_stopwords(text)\n",
        "  return text\n",
        "\n",
        "\n",
        "df['headline'] = df['headline'].apply(denoise_text)"
      ]
    },
    {
      "cell_type": "markdown",
      "metadata": {
        "id": "wovB7sm3fDbb"
      },
      "source": [
        "# Word Embeddings\n",
        "Representing Document Vocabulary, capable of capturing context of a word in a document, semantic and syntactic similarity, relation with other words, etc.\n",
        "\n",
        "## [Word2Vec Model](https://towardsdatascience.com/introduction-to-word-embedding-and-word2vec-652d0c2060fa)"
      ]
    },
    {
      "cell_type": "code",
      "execution_count": null,
      "metadata": {
        "colab": {
          "base_uri": "https://localhost:8080/"
        },
        "id": "m343482zfB8h",
        "outputId": "97eab675-7c5c-4296-9627-b42be91b8269"
      },
      "outputs": [
        {
          "output_type": "execute_result",
          "data": {
            "text/plain": [
              "[['thirtysomething',\n",
              "  'scientists',\n",
              "  'unveil',\n",
              "  'doomsday',\n",
              "  'clock',\n",
              "  'hair',\n",
              "  'loss'],\n",
              " ['dem',\n",
              "  'rep.',\n",
              "  'totally',\n",
              "  'nails',\n",
              "  'congress',\n",
              "  'falling',\n",
              "  'short',\n",
              "  'gender,',\n",
              "  'racial',\n",
              "  'equality'],\n",
              " ['eat', 'veggies:', '9', 'deliciously', 'different', 'recipes'],\n",
              " ['inclement', 'weather', 'prevents', 'liar', 'getting', 'work'],\n",
              " ['mother',\n",
              "  'comes',\n",
              "  'pretty',\n",
              "  'close',\n",
              "  'using',\n",
              "  'word',\n",
              "  \"'streaming'\",\n",
              "  'correctly']]"
            ]
          },
          "metadata": {},
          "execution_count": 53
        }
      ],
      "source": [
        "# Converting for Gensim Format\n",
        "words = []\n",
        "for i in df.headline.values:\n",
        "    words.append(i.split())\n",
        "words[:5]"
      ]
    },
    {
      "cell_type": "code",
      "execution_count": null,
      "metadata": {
        "id": "kDDz_SAGf7rt"
      },
      "outputs": [],
      "source": [
        "EMBEDDING_DIM = 200\n",
        "\n",
        "# Creating the word vectors\n",
        "w2v_model = gensim.models.Word2Vec(sentences = words , vector_size = EMBEDDING_DIM , window = 5 , min_count = 1)"
      ]
    },
    {
      "cell_type": "code",
      "execution_count": null,
      "metadata": {
        "colab": {
          "base_uri": "https://localhost:8080/"
        },
        "id": "K6Ty0SOZgIco",
        "outputId": "d2851fef-172f-4d25-c547-f3225774404b"
      },
      "outputs": [
        {
          "output_type": "execute_result",
          "data": {
            "text/plain": [
              "38065"
            ]
          },
          "metadata": {},
          "execution_count": 55
        }
      ],
      "source": [
        "# vocabulary Size\n",
        "len(w2v_model.wv.key_to_index) # 38065 words with 100 dim vector"
      ]
    },
    {
      "cell_type": "code",
      "execution_count": null,
      "metadata": {
        "id": "wAfSkgBMgcsY"
      },
      "outputs": [],
      "source": [
        "# tokenizer = text.Tokenizer(num_words = 35000)\n",
        "# tokenizer.fit_on_texts(words)\n",
        "# tokenized_train = tokenizer.texts_to_sequences(words)\n",
        "# x = sequence.pad_sequences(tokenized_train, maxlen = 20)"
      ]
    },
    {
      "cell_type": "code",
      "execution_count": null,
      "metadata": {
        "id": "ESA_otnLgrfW"
      },
      "outputs": [],
      "source": [
        "# Embedding Layer creates one more vector for \"UNKNOWN\" words, or padded words (0s)\n",
        "# Thus our vocab size inceeases by 1\n",
        "\n",
        "vocab_size = len(tokenizer.word_index) + 1"
      ]
    },
    {
      "cell_type": "code",
      "execution_count": null,
      "metadata": {
        "id": "nGlAjyT6gzxC"
      },
      "outputs": [],
      "source": [
        "# Create weight matrix from word2vec\n",
        "\n",
        "def get_weight_matrix(model, vocab):\n",
        "  # 0 for unknown words\n",
        "  vocab_size = len(vocab) + 1\n",
        "  weight_matrix = np.zeros((vocab_size, EMBEDDING_DIM))\n",
        "  for word, i in vocab.items():\n",
        "    weight_matrix[i] = model.wv[word]\n",
        "\n",
        "  return weight_matrix"
      ]
    },
    {
      "cell_type": "code",
      "execution_count": null,
      "metadata": {
        "id": "395ynHGMhFpO"
      },
      "outputs": [],
      "source": [
        "# Getting embedding vectors from word2vec and usings it as weights of non-trainable keras embedding layer\n",
        "embedding_vectors = get_weight_matrix(w2v_model, tokenizer.word_index)"
      ]
    },
    {
      "cell_type": "markdown",
      "metadata": {
        "id": "UAwk-cY5hit1"
      },
      "source": [
        "### Training W2V Model"
      ]
    },
    {
      "cell_type": "code",
      "execution_count": null,
      "metadata": {
        "id": "A05_Mb1XhhFa"
      },
      "outputs": [],
      "source": [
        "# model = Sequential()\n",
        "# model.add(Embedding(vocab_size, output_dim = EMBEDDING_DIM, weights = [embedding_vectors], input_length = 20, trainable = True)) # Non trainable, for embedding\n",
        "\n",
        "# # LSTM\n",
        "# model.add(Bidirectional(LSTM(units = 128 , recurrent_dropout = 0.3 , dropout = 0.3, return_sequences = True)))\n",
        "# model.add(Bidirectional(GRU(units = 32 , recurrent_dropout = 0.1 , dropout = 0.1)))\n",
        "# model.add(Dense(1, activation='sigmoid'))\n",
        "# model.compile(optimizer = Adam(learning_rate = 0.01), loss = 'binary_crossentropy', metrics = ['accuracy'])"
      ]
    },
    {
      "cell_type": "code",
      "execution_count": null,
      "metadata": {
        "id": "2DjdYIJciJY2"
      },
      "outputs": [],
      "source": [
        "# del embedding_vectors"
      ]
    },
    {
      "cell_type": "code",
      "execution_count": null,
      "metadata": {
        "id": "wfsY2o6xiOZk"
      },
      "outputs": [],
      "source": [
        "# model.summary()"
      ]
    },
    {
      "cell_type": "code",
      "execution_count": null,
      "metadata": {
        "id": "g2syLiU1iTFo"
      },
      "outputs": [],
      "source": [
        "X_train, X_test, y_train, y_test = train_test_split(x, df.is_sarcastic , test_size = 0.25)"
      ]
    },
    {
      "cell_type": "code",
      "execution_count": null,
      "metadata": {
        "id": "M11ibDWDjO7B"
      },
      "outputs": [],
      "source": [
        "# epochs_val = 2"
      ]
    },
    {
      "cell_type": "code",
      "execution_count": null,
      "metadata": {
        "id": "gulg_GediiVC"
      },
      "outputs": [],
      "source": [
        "# history = model.fit(X_train, y_train, batch_size = 128 , validation_data = (X_test,y_test) , epochs = epochs_val)"
      ]
    },
    {
      "cell_type": "code",
      "execution_count": null,
      "metadata": {
        "id": "hLFt9TKPle6-"
      },
      "outputs": [],
      "source": [
        "# acc = model.evaluate(X_test,y_test)[1]"
      ]
    },
    {
      "cell_type": "code",
      "execution_count": null,
      "metadata": {
        "id": "leS6_7n8ix0L"
      },
      "outputs": [],
      "source": [
        "# print(\"Accuracy : \" , acc * 100)"
      ]
    },
    {
      "cell_type": "code",
      "execution_count": null,
      "metadata": {
        "id": "i7uybFF6jLEm"
      },
      "outputs": [],
      "source": [
        "# epochs = [i for i in range(epochs_val)]\n",
        "# fig , ax = plt.subplots(1,1)\n",
        "# train_acc = history.history['accuracy']\n",
        "# val_acc = history.history['val_accuracy']\n",
        "\n",
        "# ax.plot(epochs , train_acc , 'go-' , label = 'Training Accuracy')\n",
        "# ax.plot(epochs , val_acc , 'ro-' , label = 'Testing Accuracy')\n",
        "# ax.set_title('Training & Testing Accuracy')\n",
        "# ax.legend()\n",
        "# ax.set_xlabel(\"Epochs\")\n",
        "# ax.set_ylabel(\"Accuracy\")"
      ]
    },
    {
      "cell_type": "markdown",
      "metadata": {
        "id": "F6qDOh9Km-P8"
      },
      "source": [
        "# GloVe (Attempt 2)"
      ]
    },
    {
      "cell_type": "code",
      "execution_count": null,
      "metadata": {
        "colab": {
          "base_uri": "https://localhost:8080/",
          "height": 391
        },
        "id": "hbNJsdwAnAd1",
        "outputId": "12d30b2c-95a0-4149-cc60-67615850b380"
      },
      "outputs": [
        {
          "output_type": "execute_result",
          "data": {
            "text/plain": [
              "                                        article_link  \\\n",
              "0  https://www.huffingtonpost.com/entry/versace-b...   \n",
              "1  https://www.huffingtonpost.com/entry/roseanne-...   \n",
              "2  https://local.theonion.com/mom-starting-to-fea...   \n",
              "3  https://politics.theonion.com/boehner-just-wan...   \n",
              "4  https://www.huffingtonpost.com/entry/jk-rowlin...   \n",
              "\n",
              "                                            headline  is_sarcastic  \n",
              "0  former versace store clerk sues over secret 'b...             0  \n",
              "1  the 'roseanne' revival catches up to our thorn...             0  \n",
              "2  mom starting to fear son's web series closest ...             1  \n",
              "3  boehner just wants wife to listen, not come up...             1  \n",
              "4  j.k. rowling wishes snape happy birthday in th...             0  "
            ],
            "text/html": [
              "\n",
              "  <div id=\"df-25b9d5b4-75f6-4aba-97d4-1e50a3b77015\" class=\"colab-df-container\">\n",
              "    <div>\n",
              "<style scoped>\n",
              "    .dataframe tbody tr th:only-of-type {\n",
              "        vertical-align: middle;\n",
              "    }\n",
              "\n",
              "    .dataframe tbody tr th {\n",
              "        vertical-align: top;\n",
              "    }\n",
              "\n",
              "    .dataframe thead th {\n",
              "        text-align: right;\n",
              "    }\n",
              "</style>\n",
              "<table border=\"1\" class=\"dataframe\">\n",
              "  <thead>\n",
              "    <tr style=\"text-align: right;\">\n",
              "      <th></th>\n",
              "      <th>article_link</th>\n",
              "      <th>headline</th>\n",
              "      <th>is_sarcastic</th>\n",
              "    </tr>\n",
              "  </thead>\n",
              "  <tbody>\n",
              "    <tr>\n",
              "      <th>0</th>\n",
              "      <td>https://www.huffingtonpost.com/entry/versace-b...</td>\n",
              "      <td>former versace store clerk sues over secret 'b...</td>\n",
              "      <td>0</td>\n",
              "    </tr>\n",
              "    <tr>\n",
              "      <th>1</th>\n",
              "      <td>https://www.huffingtonpost.com/entry/roseanne-...</td>\n",
              "      <td>the 'roseanne' revival catches up to our thorn...</td>\n",
              "      <td>0</td>\n",
              "    </tr>\n",
              "    <tr>\n",
              "      <th>2</th>\n",
              "      <td>https://local.theonion.com/mom-starting-to-fea...</td>\n",
              "      <td>mom starting to fear son's web series closest ...</td>\n",
              "      <td>1</td>\n",
              "    </tr>\n",
              "    <tr>\n",
              "      <th>3</th>\n",
              "      <td>https://politics.theonion.com/boehner-just-wan...</td>\n",
              "      <td>boehner just wants wife to listen, not come up...</td>\n",
              "      <td>1</td>\n",
              "    </tr>\n",
              "    <tr>\n",
              "      <th>4</th>\n",
              "      <td>https://www.huffingtonpost.com/entry/jk-rowlin...</td>\n",
              "      <td>j.k. rowling wishes snape happy birthday in th...</td>\n",
              "      <td>0</td>\n",
              "    </tr>\n",
              "  </tbody>\n",
              "</table>\n",
              "</div>\n",
              "    <div class=\"colab-df-buttons\">\n",
              "\n",
              "  <div class=\"colab-df-container\">\n",
              "    <button class=\"colab-df-convert\" onclick=\"convertToInteractive('df-25b9d5b4-75f6-4aba-97d4-1e50a3b77015')\"\n",
              "            title=\"Convert this dataframe to an interactive table.\"\n",
              "            style=\"display:none;\">\n",
              "\n",
              "  <svg xmlns=\"http://www.w3.org/2000/svg\" height=\"24px\" viewBox=\"0 -960 960 960\">\n",
              "    <path d=\"M120-120v-720h720v720H120Zm60-500h600v-160H180v160Zm220 220h160v-160H400v160Zm0 220h160v-160H400v160ZM180-400h160v-160H180v160Zm440 0h160v-160H620v160ZM180-180h160v-160H180v160Zm440 0h160v-160H620v160Z\"/>\n",
              "  </svg>\n",
              "    </button>\n",
              "\n",
              "  <style>\n",
              "    .colab-df-container {\n",
              "      display:flex;\n",
              "      gap: 12px;\n",
              "    }\n",
              "\n",
              "    .colab-df-convert {\n",
              "      background-color: #E8F0FE;\n",
              "      border: none;\n",
              "      border-radius: 50%;\n",
              "      cursor: pointer;\n",
              "      display: none;\n",
              "      fill: #1967D2;\n",
              "      height: 32px;\n",
              "      padding: 0 0 0 0;\n",
              "      width: 32px;\n",
              "    }\n",
              "\n",
              "    .colab-df-convert:hover {\n",
              "      background-color: #E2EBFA;\n",
              "      box-shadow: 0px 1px 2px rgba(60, 64, 67, 0.3), 0px 1px 3px 1px rgba(60, 64, 67, 0.15);\n",
              "      fill: #174EA6;\n",
              "    }\n",
              "\n",
              "    .colab-df-buttons div {\n",
              "      margin-bottom: 4px;\n",
              "    }\n",
              "\n",
              "    [theme=dark] .colab-df-convert {\n",
              "      background-color: #3B4455;\n",
              "      fill: #D2E3FC;\n",
              "    }\n",
              "\n",
              "    [theme=dark] .colab-df-convert:hover {\n",
              "      background-color: #434B5C;\n",
              "      box-shadow: 0px 1px 3px 1px rgba(0, 0, 0, 0.15);\n",
              "      filter: drop-shadow(0px 1px 2px rgba(0, 0, 0, 0.3));\n",
              "      fill: #FFFFFF;\n",
              "    }\n",
              "  </style>\n",
              "\n",
              "    <script>\n",
              "      const buttonEl =\n",
              "        document.querySelector('#df-25b9d5b4-75f6-4aba-97d4-1e50a3b77015 button.colab-df-convert');\n",
              "      buttonEl.style.display =\n",
              "        google.colab.kernel.accessAllowed ? 'block' : 'none';\n",
              "\n",
              "      async function convertToInteractive(key) {\n",
              "        const element = document.querySelector('#df-25b9d5b4-75f6-4aba-97d4-1e50a3b77015');\n",
              "        const dataTable =\n",
              "          await google.colab.kernel.invokeFunction('convertToInteractive',\n",
              "                                                    [key], {});\n",
              "        if (!dataTable) return;\n",
              "\n",
              "        const docLinkHtml = 'Like what you see? Visit the ' +\n",
              "          '<a target=\"_blank\" href=https://colab.research.google.com/notebooks/data_table.ipynb>data table notebook</a>'\n",
              "          + ' to learn more about interactive tables.';\n",
              "        element.innerHTML = '';\n",
              "        dataTable['output_type'] = 'display_data';\n",
              "        await google.colab.output.renderOutput(dataTable, element);\n",
              "        const docLink = document.createElement('div');\n",
              "        docLink.innerHTML = docLinkHtml;\n",
              "        element.appendChild(docLink);\n",
              "      }\n",
              "    </script>\n",
              "  </div>\n",
              "\n",
              "\n",
              "<div id=\"df-b3747ed6-f2e0-4b8b-85a8-c6d71eaa70ed\">\n",
              "  <button class=\"colab-df-quickchart\" onclick=\"quickchart('df-b3747ed6-f2e0-4b8b-85a8-c6d71eaa70ed')\"\n",
              "            title=\"Suggest charts\"\n",
              "            style=\"display:none;\">\n",
              "\n",
              "<svg xmlns=\"http://www.w3.org/2000/svg\" height=\"24px\"viewBox=\"0 0 24 24\"\n",
              "     width=\"24px\">\n",
              "    <g>\n",
              "        <path d=\"M19 3H5c-1.1 0-2 .9-2 2v14c0 1.1.9 2 2 2h14c1.1 0 2-.9 2-2V5c0-1.1-.9-2-2-2zM9 17H7v-7h2v7zm4 0h-2V7h2v10zm4 0h-2v-4h2v4z\"/>\n",
              "    </g>\n",
              "</svg>\n",
              "  </button>\n",
              "\n",
              "<style>\n",
              "  .colab-df-quickchart {\n",
              "      --bg-color: #E8F0FE;\n",
              "      --fill-color: #1967D2;\n",
              "      --hover-bg-color: #E2EBFA;\n",
              "      --hover-fill-color: #174EA6;\n",
              "      --disabled-fill-color: #AAA;\n",
              "      --disabled-bg-color: #DDD;\n",
              "  }\n",
              "\n",
              "  [theme=dark] .colab-df-quickchart {\n",
              "      --bg-color: #3B4455;\n",
              "      --fill-color: #D2E3FC;\n",
              "      --hover-bg-color: #434B5C;\n",
              "      --hover-fill-color: #FFFFFF;\n",
              "      --disabled-bg-color: #3B4455;\n",
              "      --disabled-fill-color: #666;\n",
              "  }\n",
              "\n",
              "  .colab-df-quickchart {\n",
              "    background-color: var(--bg-color);\n",
              "    border: none;\n",
              "    border-radius: 50%;\n",
              "    cursor: pointer;\n",
              "    display: none;\n",
              "    fill: var(--fill-color);\n",
              "    height: 32px;\n",
              "    padding: 0;\n",
              "    width: 32px;\n",
              "  }\n",
              "\n",
              "  .colab-df-quickchart:hover {\n",
              "    background-color: var(--hover-bg-color);\n",
              "    box-shadow: 0 1px 2px rgba(60, 64, 67, 0.3), 0 1px 3px 1px rgba(60, 64, 67, 0.15);\n",
              "    fill: var(--button-hover-fill-color);\n",
              "  }\n",
              "\n",
              "  .colab-df-quickchart-complete:disabled,\n",
              "  .colab-df-quickchart-complete:disabled:hover {\n",
              "    background-color: var(--disabled-bg-color);\n",
              "    fill: var(--disabled-fill-color);\n",
              "    box-shadow: none;\n",
              "  }\n",
              "\n",
              "  .colab-df-spinner {\n",
              "    border: 2px solid var(--fill-color);\n",
              "    border-color: transparent;\n",
              "    border-bottom-color: var(--fill-color);\n",
              "    animation:\n",
              "      spin 1s steps(1) infinite;\n",
              "  }\n",
              "\n",
              "  @keyframes spin {\n",
              "    0% {\n",
              "      border-color: transparent;\n",
              "      border-bottom-color: var(--fill-color);\n",
              "      border-left-color: var(--fill-color);\n",
              "    }\n",
              "    20% {\n",
              "      border-color: transparent;\n",
              "      border-left-color: var(--fill-color);\n",
              "      border-top-color: var(--fill-color);\n",
              "    }\n",
              "    30% {\n",
              "      border-color: transparent;\n",
              "      border-left-color: var(--fill-color);\n",
              "      border-top-color: var(--fill-color);\n",
              "      border-right-color: var(--fill-color);\n",
              "    }\n",
              "    40% {\n",
              "      border-color: transparent;\n",
              "      border-right-color: var(--fill-color);\n",
              "      border-top-color: var(--fill-color);\n",
              "    }\n",
              "    60% {\n",
              "      border-color: transparent;\n",
              "      border-right-color: var(--fill-color);\n",
              "    }\n",
              "    80% {\n",
              "      border-color: transparent;\n",
              "      border-right-color: var(--fill-color);\n",
              "      border-bottom-color: var(--fill-color);\n",
              "    }\n",
              "    90% {\n",
              "      border-color: transparent;\n",
              "      border-bottom-color: var(--fill-color);\n",
              "    }\n",
              "  }\n",
              "</style>\n",
              "\n",
              "  <script>\n",
              "    async function quickchart(key) {\n",
              "      const quickchartButtonEl =\n",
              "        document.querySelector('#' + key + ' button');\n",
              "      quickchartButtonEl.disabled = true;  // To prevent multiple clicks.\n",
              "      quickchartButtonEl.classList.add('colab-df-spinner');\n",
              "      try {\n",
              "        const charts = await google.colab.kernel.invokeFunction(\n",
              "            'suggestCharts', [key], {});\n",
              "      } catch (error) {\n",
              "        console.error('Error during call to suggestCharts:', error);\n",
              "      }\n",
              "      quickchartButtonEl.classList.remove('colab-df-spinner');\n",
              "      quickchartButtonEl.classList.add('colab-df-quickchart-complete');\n",
              "    }\n",
              "    (() => {\n",
              "      let quickchartButtonEl =\n",
              "        document.querySelector('#df-b3747ed6-f2e0-4b8b-85a8-c6d71eaa70ed button');\n",
              "      quickchartButtonEl.style.display =\n",
              "        google.colab.kernel.accessAllowed ? 'block' : 'none';\n",
              "    })();\n",
              "  </script>\n",
              "</div>\n",
              "\n",
              "    </div>\n",
              "  </div>\n"
            ],
            "application/vnd.google.colaboratory.intrinsic+json": {
              "type": "dataframe",
              "variable_name": "data",
              "summary": "{\n  \"name\": \"data\",\n  \"rows\": 55328,\n  \"fields\": [\n    {\n      \"column\": \"article_link\",\n      \"properties\": {\n        \"dtype\": \"string\",\n        \"num_unique_values\": 28617,\n        \"samples\": [\n          \"https://entertainment.theonion.com/christian-bale-loses-40-years-for-upcoming-movie-role-1833999023\",\n          \"https://www.huffingtonpost.com/entry/jon-stewart-911-responders_us_55f950bce4b0b48f67014d60\",\n          \"https://www.huffingtonpost.com/entry/inhofe-barbra-streisand_n_6261874.html\"\n        ],\n        \"semantic_type\": \"\",\n        \"description\": \"\"\n      }\n    },\n    {\n      \"column\": \"headline\",\n      \"properties\": {\n        \"dtype\": \"string\",\n        \"num_unique_values\": 28503,\n        \"samples\": [\n          \"facing fbi bank fraud investigation, bernie and jane sanders hire lawyers\",\n          \"impoverished kenyan bean picker can't wait to see what starbucks has to say about racial sensitivity\",\n          \"'stranger things' kids already look like winners on the golden globes red carpet\"\n        ],\n        \"semantic_type\": \"\",\n        \"description\": \"\"\n      }\n    },\n    {\n      \"column\": \"is_sarcastic\",\n      \"properties\": {\n        \"dtype\": \"number\",\n        \"std\": 0,\n        \"min\": 0,\n        \"max\": 1,\n        \"num_unique_values\": 2,\n        \"samples\": [\n          1,\n          0\n        ],\n        \"semantic_type\": \"\",\n        \"description\": \"\"\n      }\n    }\n  ]\n}"
            }
          },
          "metadata": {},
          "execution_count": 69
        }
      ],
      "source": [
        "# data_1 = pd.read_json(\"/content/drive/MyDrive/Shared With Others/Sarcasm_Headlines_Dataset.json\", lines=True)\n",
        "# data_2 = pd.read_json(\"/content/drive/MyDrive/Shared With Others/Sarcasm_Headlines_Dataset_v2.json\", lines=True)\n",
        "# data =  pd.concat([data_1, data_2])\n",
        "# data.head()"
      ]
    },
    {
      "cell_type": "code",
      "execution_count": null,
      "metadata": {
        "id": "lSREHcJinApx"
      },
      "outputs": [],
      "source": [
        "# def clean_text(text):\n",
        "#     text = text.lower()\n",
        "\n",
        "#     pattern = re.compile('http[s]?://(?:[a-zA-Z]|[0-9]|[$-_@.&+]|[!*\\(\\),]|(?:%[0-9a-fA-F][0-9a-fA-F]))+')\n",
        "#     text = pattern.sub('', text)\n",
        "#     text = \" \".join(filter(lambda x:x[0]!='@', text.split()))\n",
        "#     emoji = re.compile(\"[\"\n",
        "#                            u\"\\U0001F600-\\U0001FFFF\"  # emoticons\n",
        "#                            u\"\\U0001F300-\\U0001F5FF\"  # symbols & pictographs\n",
        "#                            u\"\\U0001F680-\\U0001F6FF\"  # transport & map symbols\n",
        "#                            u\"\\U0001F1E0-\\U0001F1FF\"  # flags (iOS)\n",
        "#                            u\"\\U00002702-\\U000027B0\"\n",
        "#                            u\"\\U000024C2-\\U0001F251\"\n",
        "#                            \"]+\", flags=re.UNICODE)\n",
        "\n",
        "#     text = emoji.sub(r'', text)\n",
        "#     text = text.lower()\n",
        "#     text = re.sub(r\"i'm\", \"i am\", text)\n",
        "#     text = re.sub(r\"he's\", \"he is\", text)\n",
        "#     text = re.sub(r\"she's\", \"she is\", text)\n",
        "#     text = re.sub(r\"that's\", \"that is\", text)\n",
        "#     text = re.sub(r\"what's\", \"what is\", text)\n",
        "#     text = re.sub(r\"where's\", \"where is\", text)\n",
        "#     text = re.sub(r\"\\'ll\", \" will\", text)\n",
        "#     text = re.sub(r\"\\'ve\", \" have\", text)\n",
        "#     text = re.sub(r\"\\'re\", \" are\", text)\n",
        "#     text = re.sub(r\"\\'d\", \" would\", text)\n",
        "#     text = re.sub(r\"\\'ve\", \" have\", text)\n",
        "#     text = re.sub(r\"won't\", \"will not\", text)\n",
        "#     text = re.sub(r\"don't\", \"do not\", text)\n",
        "#     text = re.sub(r\"did't\", \"did not\", text)\n",
        "#     text = re.sub(r\"can't\", \"can not\", text)\n",
        "#     text = re.sub(r\"it's\", \"it is\", text)\n",
        "#     text = re.sub(r\"couldn't\", \"could not\", text)\n",
        "#     text = re.sub(r\"have't\", \"have not\", text)\n",
        "#     text = re.sub(r\"[,.\\\"\\'!@#$%^&*(){}?/;`~:<>+=-]\", \"\", text)\n",
        "#     return text"
      ]
    },
    {
      "cell_type": "code",
      "execution_count": null,
      "metadata": {
        "colab": {
          "base_uri": "https://localhost:8080/"
        },
        "id": "QD7mmy7vnaSj",
        "outputId": "25cfb751-00b4-47d7-f716-cfe3d77c4e8b"
      },
      "outputs": [
        {
          "output_type": "execute_result",
          "data": {
            "text/plain": [
              "[['former',\n",
              "  'versace',\n",
              "  'store',\n",
              "  'clerk',\n",
              "  'sues',\n",
              "  'secret',\n",
              "  'black',\n",
              "  'code',\n",
              "  'minority',\n",
              "  'shoppers'],\n",
              " ['roseanne',\n",
              "  'revival',\n",
              "  'catches',\n",
              "  'thorny',\n",
              "  'political',\n",
              "  'mood',\n",
              "  'better',\n",
              "  'worse'],\n",
              " ['mom',\n",
              "  'starting',\n",
              "  'fear',\n",
              "  'sons',\n",
              "  'web',\n",
              "  'series',\n",
              "  'closest',\n",
              "  'thing',\n",
              "  'grandchild'],\n",
              " ['boehner',\n",
              "  'wants',\n",
              "  'wife',\n",
              "  'listen',\n",
              "  'come',\n",
              "  'alternative',\n",
              "  'debtreduction',\n",
              "  'ideas'],\n",
              " ['jk', 'rowling', 'wishes', 'snape', 'happy', 'birthday', 'magical', 'way'],\n",
              " ['advancing', 'worlds', 'women'],\n",
              " ['fascinating', 'case', 'eating', 'labgrown', 'meat'],\n",
              " ['ceo', 'send', 'kids', 'school', 'work', 'company'],\n",
              " ['top', 'snake', 'handler', 'leaves', 'sinking', 'huckabee', 'campaign'],\n",
              " ['fridays', 'morning', 'email', 'inside', 'trumps', 'presser', 'ages']]"
            ]
          },
          "metadata": {},
          "execution_count": 71
        }
      ],
      "source": [
        "# import string\n",
        "# from nltk.tokenize import word_tokenize\n",
        "# from nltk.corpus import stopwords\n",
        "\n",
        "# def CleanTokenize(df):\n",
        "#     head_lines = list()\n",
        "#     lines = df[\"headline\"].values.tolist()\n",
        "\n",
        "#     for line in lines:\n",
        "#         line = clean_text(line)\n",
        "#         # tokenize the text\n",
        "#         tokens = word_tokenize(line)\n",
        "#         # remove puntuations\n",
        "#         table = str.maketrans('', '', string.punctuation)\n",
        "#         stripped = [w.translate(table) for w in tokens]\n",
        "#         # remove non alphabetic characters\n",
        "#         words = [word for word in stripped if word.isalpha()]\n",
        "#         stop_words = set(stopwords.words(\"english\"))\n",
        "#         # remove stop words\n",
        "#         words = [w for w in words if not w in stop_words]\n",
        "#         head_lines.append(words)\n",
        "#     return head_lines\n",
        "\n",
        "# head_lines = CleanTokenize(data)\n",
        "# head_lines[0:10]"
      ]
    },
    {
      "cell_type": "code",
      "execution_count": null,
      "metadata": {
        "colab": {
          "base_uri": "https://localhost:8080/"
        },
        "id": "4r9N-ibUniCF",
        "outputId": "499cc1aa-a62d-48a6-eab5-7203d95569d0"
      },
      "outputs": [
        {
          "output_type": "stream",
          "name": "stdout",
          "text": [
            "unique tokens -  28657\n",
            "vocab size - 28658\n"
          ]
        }
      ],
      "source": [
        "# validation_split = 0.2\n",
        "# max_length = 25\n",
        "\n",
        "\n",
        "# tokenizer_obj = text.Tokenizer()\n",
        "# tokenizer_obj.fit_on_texts(head_lines)\n",
        "# sequences = tokenizer_obj.texts_to_sequences(head_lines)\n",
        "\n",
        "# word_index = tokenizer_obj.word_index\n",
        "# print(\"unique tokens - \",len(word_index))\n",
        "# vocab_size = len(tokenizer_obj.word_index) + 1\n",
        "# print('vocab size -', vocab_size)\n",
        "\n",
        "# lines_pad = sequence.pad_sequences(sequences, maxlen=max_length, padding='post')\n",
        "# sentiment =  data['is_sarcastic'].values\n",
        "\n",
        "# indices = np.arange(lines_pad.shape[0])\n",
        "# np.random.shuffle(indices)\n",
        "# lines_pad = lines_pad[indices]\n",
        "# sentiment = sentiment[indices]\n",
        "\n",
        "# num_validation_samples = int(validation_split * lines_pad.shape[0])\n",
        "\n",
        "# X_train_pad = lines_pad[:-num_validation_samples]\n",
        "# y_train = sentiment[:-num_validation_samples]\n",
        "# X_test_pad = lines_pad[-num_validation_samples:]\n",
        "# y_test = sentiment[-num_validation_samples:]"
      ]
    },
    {
      "cell_type": "code",
      "execution_count": null,
      "metadata": {
        "id": "eygUYN8hnk7P"
      },
      "outputs": [],
      "source": [
        "# print('Shape of X_train_pad:', X_train_pad.shape)\n",
        "# print('Shape of y_train:', y_train.shape)\n",
        "\n",
        "# print('Shape of X_test_pad:', X_test_pad.shape)\n",
        "# print('Shape of y_test:', y_test.shape)"
      ]
    },
    {
      "cell_type": "code",
      "execution_count": null,
      "metadata": {
        "id": "NPxuGs_lnua_"
      },
      "outputs": [],
      "source": [
        "# import os\n",
        "\n",
        "# embeddings_index = {}\n",
        "# embedding_dim = 200\n",
        "# GLOVE_DIR = r'/content/drive/MyDrive/Shared With Others/glove.twitter.27B.200d.txt'\n",
        "# f = open(GLOVE_DIR, encoding = \"utf-8\")\n",
        "# for line in f:\n",
        "#     values = line.split()\n",
        "#     word = values[0]\n",
        "#     coefs = np.asarray(values[1:], dtype='float32')\n",
        "#     embeddings_index[word] = coefs\n",
        "# f.close()\n",
        "\n",
        "# print('Found %s word vectors.' % len(embeddings_index))"
      ]
    },
    {
      "cell_type": "code",
      "execution_count": null,
      "metadata": {
        "id": "0sO3nvJBn40U"
      },
      "outputs": [],
      "source": [
        "# embedding_matrix = np.zeros((len(word_index) + 1, embedding_dim))\n",
        "# c = 0\n",
        "# for word, i in word_index.items():\n",
        "#     embedding_vector = embeddings_index.get(word)\n",
        "#     if embedding_vector is not None:\n",
        "#         c+=1\n",
        "#         embedding_matrix[i] = embedding_vector\n",
        "# print(c)"
      ]
    },
    {
      "cell_type": "code",
      "execution_count": null,
      "metadata": {
        "id": "KsbxubY7n7cz"
      },
      "outputs": [],
      "source": [
        "# embedding_layer = Embedding(len(word_index) + 1,\n",
        "#                             embedding_dim,\n",
        "#                             weights=[embedding_matrix],\n",
        "#                             input_length=max_length,\n",
        "#                             trainable=False)"
      ]
    },
    {
      "cell_type": "code",
      "execution_count": null,
      "metadata": {
        "id": "WxDWRKc7n9wF"
      },
      "outputs": [],
      "source": [
        "# model = Sequential()\n",
        "# model.add(embedding_layer)\n",
        "# model.add(LSTM(64, dropout=0.2, recurrent_dropout=0.25))\n",
        "# model.add(Dense(1, activation='sigmoid'))\n",
        "\n",
        "# model.compile(loss='binary_crossentropy', optimizer='adam', metrics=['acc'])\n",
        "\n",
        "# print('Summary of the built model...')\n",
        "# print(model.summary())"
      ]
    },
    {
      "cell_type": "code",
      "execution_count": null,
      "metadata": {
        "id": "opvlIsH_ouU5"
      },
      "outputs": [],
      "source": [
        "# history = model.fit(X_train_pad, y_train, batch_size=32, epochs=2, validation_data=(X_test_pad, y_test), verbose=2)"
      ]
    },
    {
      "cell_type": "code",
      "execution_count": null,
      "metadata": {
        "id": "_l5WNgc9o07I"
      },
      "outputs": [],
      "source": [
        "# # Plot results\n",
        "# acc = history.history['acc']\n",
        "# val_acc = history.history['val_acc']\n",
        "# loss = history.history['loss']\n",
        "# val_loss = history.history['val_loss']\n",
        "\n",
        "# epochs = range(1, len(acc)+1)\n",
        "\n",
        "# plt.plot(epochs, acc, 'g', label='Training accuracy')\n",
        "# plt.plot(epochs, val_acc, 'r', label='Validation accuracy')\n",
        "# plt.title('Training and validation accuracy')\n",
        "# plt.legend()\n",
        "\n",
        "# plt.figure()\n",
        "\n",
        "# plt.plot(epochs, loss, 'g', label='Training loss')\n",
        "# plt.plot(epochs, val_loss, 'r', label='Validation loss')\n",
        "# plt.title('Training and validation loss')\n",
        "# plt.legend()\n",
        "\n",
        "# plt.show()"
      ]
    },
    {
      "cell_type": "code",
      "execution_count": null,
      "metadata": {
        "id": "krnE7jcspBww"
      },
      "outputs": [],
      "source": [
        "# def predict_sarcasm(s):\n",
        "#     x_final = pd.DataFrame({\"headline\":[s]})\n",
        "#     test_lines = CleanTokenize(x_final)\n",
        "#     test_sequences = tokenizer_obj.texts_to_sequences(test_lines)\n",
        "#     test_review_pad = sequence.pad_sequences(test_sequences, maxlen=max_length, padding='post')\n",
        "#     pred = model.predict(test_review_pad)\n",
        "#     pred*=100\n",
        "#     if pred[0][0]>=50: return \"It's a sarcasm!\"\n",
        "#     else: return \"It's not a sarcasm.\""
      ]
    },
    {
      "cell_type": "code",
      "execution_count": null,
      "metadata": {
        "id": "h8Sgq1YWpCTs"
      },
      "outputs": [],
      "source": [
        "# predict_sarcasm(\"I was depressed. He asked me to be happy. I am not depressed anymore.\")"
      ]
    },
    {
      "cell_type": "markdown",
      "metadata": {
        "id": "qmtGhtRYnA5R"
      },
      "source": [
        "---\n",
        "---\n",
        "---\n",
        "---"
      ]
    },
    {
      "cell_type": "markdown",
      "source": [
        "# BERT"
      ],
      "metadata": {
        "id": "9OWk-LxT4Ntv"
      }
    },
    {
      "cell_type": "code",
      "source": [
        "inputs = df['headline'][:1000]\n",
        "targets = df.is_sarcastic[:1000]"
      ],
      "metadata": {
        "id": "L-RZa4Rt5SrL"
      },
      "execution_count": null,
      "outputs": []
    },
    {
      "cell_type": "code",
      "source": [
        "from transformers import DistilBertModel, DistilBertTokenizer\n",
        "import tensorflow as tf\n",
        "import numpy as np\n",
        "import pandas as pd\n",
        "import matplotlib.pyplot as plt\n",
        "\n",
        "import tensorflow as tf\n",
        "from tensorflow import keras\n",
        "\n",
        "import json\n",
        "import random\n",
        "import re\n",
        "import os\n",
        "import urllib.request\n",
        "\n",
        "import spacy\n",
        "from scipy import spatial\n",
        "\n",
        "from sklearn.feature_extraction.text import CountVectorizer, TfidfVectorizer\n",
        "from sklearn.manifold import TSNE\n",
        "import gensim\n",
        "\n",
        "from sklearn.model_selection import train_test_split\n",
        "from sklearn.ensemble import RandomForestClassifier\n",
        "from sklearn.metrics import accuracy_score, classification_report\n",
        "\n",
        "import torch\n",
        "\n",
        "\n",
        "\n",
        "model = DistilBertModel.from_pretrained('distilbert-base-uncased')\n",
        "tokenizer = DistilBertTokenizer.from_pretrained('distilbert-base-uncased')\n",
        "\n",
        "tokens = [tokenizer.tokenize(sentence) for sentence in inputs]\n",
        "input_ids = [tokenizer.convert_tokens_to_ids(x) for x in tokens]\n",
        "\n",
        "input_ids = tf.keras.preprocessing.sequence.pad_sequences(input_ids, padding='post')\n",
        "\n",
        "attention_mask = torch.tensor([[int(token_id > 0) for token_id in input_sequence] for input_sequence in input_ids])\n",
        "\n",
        "input_tensor = torch.tensor(input_ids)\n",
        "\n",
        "with torch.no_grad():\n",
        "    outputs = model(input_tensor, attention_mask=attention_mask)\n",
        "    embeddings = outputs[0]"
      ],
      "metadata": {
        "id": "nvvUxOc95Gyi"
      },
      "execution_count": null,
      "outputs": []
    },
    {
      "cell_type": "code",
      "source": [
        "# prompt: remove 2nd dimension of embeddings\n",
        "\n",
        "embeddings = embeddings[:, :, 0]"
      ],
      "metadata": {
        "id": "Gm7RKHOUCFSS"
      },
      "execution_count": null,
      "outputs": []
    },
    {
      "cell_type": "code",
      "source": [
        "rf_distil = RandomForestClassifier()\n",
        "\n",
        "X_train, X_test, y_train, y_test = train_test_split(embeddings, targets, test_size=0.2, random_state=42)\n"
      ],
      "metadata": {
        "id": "gwJoGY6T_58p"
      },
      "execution_count": null,
      "outputs": []
    },
    {
      "cell_type": "code",
      "source": [
        "rf_distil = RandomForestClassifier()\n",
        "rf_distil.fit(X_train, y_train)\n",
        "\n",
        "y_pred = rf_distil.predict(X_test)\n",
        "print(accuracy_score(y_test, y_pred))\n",
        "print(classification_report(y_test, y_pred))"
      ],
      "metadata": {
        "colab": {
          "base_uri": "https://localhost:8080/"
        },
        "id": "r4_UG152Apn0",
        "outputId": "b5862125-360d-4255-bad5-0a3c14d4e6ef"
      },
      "execution_count": null,
      "outputs": [
        {
          "output_type": "stream",
          "name": "stdout",
          "text": [
            "0.46\n",
            "              precision    recall  f1-score   support\n",
            "\n",
            "           0       0.47      0.63      0.53        99\n",
            "           1       0.45      0.30      0.36       101\n",
            "\n",
            "    accuracy                           0.46       200\n",
            "   macro avg       0.46      0.46      0.45       200\n",
            "weighted avg       0.46      0.46      0.44       200\n",
            "\n"
          ]
        }
      ]
    },
    {
      "cell_type": "code",
      "source": [],
      "metadata": {
        "id": "brrG4cmLBs45"
      },
      "execution_count": null,
      "outputs": []
    }
  ],
  "metadata": {
    "colab": {
      "provenance": [],
      "gpuType": "T4"
    },
    "kernelspec": {
      "display_name": "Python 3",
      "name": "python3"
    },
    "language_info": {
      "name": "python"
    },
    "accelerator": "GPU"
  },
  "nbformat": 4,
  "nbformat_minor": 0
}